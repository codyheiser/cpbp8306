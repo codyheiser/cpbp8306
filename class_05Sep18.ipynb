{
 "cells": [
  {
   "cell_type": "code",
   "execution_count": 1,
   "metadata": {},
   "outputs": [],
   "source": [
    "import numpy as np\n",
    "import matplotlib.pyplot as plt"
   ]
  },
  {
   "cell_type": "code",
   "execution_count": 2,
   "metadata": {},
   "outputs": [],
   "source": [
    "x = np.random.randn(10000)"
   ]
  },
  {
   "cell_type": "code",
   "execution_count": 3,
   "metadata": {},
   "outputs": [
    {
     "data": {
      "text/plain": [
       "(array([  22.,  143.,  678., 1832., 2946., 2592., 1346.,  370.,   62.,\n",
       "           9.]),\n",
       " array([-3.77935692, -2.99425434, -2.20915177, -1.42404919, -0.63894662,\n",
       "         0.14615596,  0.93125853,  1.7163611 ,  2.50146368,  3.28656625,\n",
       "         4.07166883]),\n",
       " <a list of 10 Patch objects>)"
      ]
     },
     "execution_count": 3,
     "metadata": {},
     "output_type": "execute_result"
    },
    {
     "data": {
      "image/png": "[encoded data removed]",
      "text/plain": [
       "<Figure size 432x288 with 1 Axes>"
      ]
     },
     "metadata": {},
     "output_type": "display_data"
    }
   ],
   "source": [
    "plt.hist(x)"
   ]
  },
  {
   "cell_type": "code",
   "execution_count": 13,
   "metadata": {},
   "outputs": [],
   "source": [
    "def sample_mean_var(x, size):\n",
    "    '''\n",
    "    Returns average of means and variances (with ddof==0 and ddof==1) \n",
    "    of m random samples of n values from population x.\n",
    "    \n",
    "    x = array of population to sample from\n",
    "    size = size of sample to take. can be array dimensions (n,m) where n is number of\n",
    "        values per sample and m is number of samples to take.\n",
    "    '''\n",
    "    samp = np.random.choice(x, size, replace = False)\n",
    "    \n",
    "    plt.hist(samp)\n",
    "    \n",
    "    means = np.mean(samp, axis=0)\n",
    "    vars_dof1 = np.var(samp, axis=0, ddof=1)\n",
    "    vars_dof0 = np.var(samp, axis=0)\n",
    "    \n",
    "    print('Average sample mean: '+str(np.mean(means)))\n",
    "    print('Average sample variance with DoF==0: '+str(np.mean(vars_dof1)))\n",
    "    print('Average sample variance with DoF==0: '+str(np.mean(vars_dof0)))\n"
   ]
  },
  {
   "cell_type": "code",
   "execution_count": 16,
   "metadata": {},
   "outputs": [
    {
     "name": "stdout",
     "output_type": "stream",
     "text": [
      "Average sample mean: -0.1603096805818796\n",
      "Average sample variance with DoF==0: 1.0793149265486666\n",
      "Average sample variance with DoF==0: 0.8634519412389332\n"
     ]
    },
    {
     "data": {
      "image/png": "[encoded data removed]",
      "text/plain": [
       "<Figure size 432x288 with 1 Axes>"
      ]
     },
     "metadata": {},
     "output_type": "display_data"
    }
   ],
   "source": [
    "sample_mean_var(x, (5,20))"
   ]
  },
  {
   "cell_type": "code",
   "execution_count": 9,
   "metadata": {},
   "outputs": [],
   "source": [
    "n1 = int(input('How many numbers per sample?: '))\n",
    "n2 = int(input('How many samples?: '))"
   ]
  },
  {
   "cell_type": "code",
   "execution_count": 10,
   "metadata": {},
   "outputs": [
    {
     "name": "stdout",
     "output_type": "stream",
     "text": [
      "Sample Mean: [-0.40455311  0.35425738 -1.53653307 -0.24400079  0.44136064 -0.36400068\n",
      " -0.76226879]\n",
      "Sample Variance: [1.20873269 2.60880619 1.80574756 2.4149254  0.4203606  2.59602608\n",
      " 0.91519562]\n",
      "Variance (DoF=0): [0.90654952 1.95660464 1.35431067 1.81119405 0.31527045 1.94701956\n",
      " 0.68639672]\n"
     ]
    }
   ],
   "source": [
    "sample_mean_var(x, (n1,n2))"
   ]
  },
  {
   "cell_type": "code",
   "execution_count": null,
   "metadata": {},
   "outputs": [],
   "source": []
  }
 ],
 "metadata": {
  "kernelspec": {
   "display_name": "Python 3",
   "language": "python",
   "name": "python3"
  },
  "language_info": {
   "codemirror_mode": {
    "name": "ipython",
    "version": 3
   },
   "file_extension": ".py",
   "mimetype": "text/x-python",
   "name": "python",
   "nbconvert_exporter": "python",
   "pygments_lexer": "ipython3",
   "version": "3.6.5"
  }
 },
 "nbformat": 4,
 "nbformat_minor": 2
}
